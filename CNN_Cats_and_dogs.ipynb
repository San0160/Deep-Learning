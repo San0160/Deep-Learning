{
 "cells": [
  {
   "cell_type": "code",
   "execution_count": 43,
   "id": "964d3fe8",
   "metadata": {},
   "outputs": [],
   "source": [
    "import tensorflow as tf"
   ]
  },
  {
   "cell_type": "code",
   "execution_count": 44,
   "id": "4ea4623f",
   "metadata": {},
   "outputs": [],
   "source": [
    "train_gen = tf.keras.preprocessing.image.ImageDataGenerator(rescale = 1/255.0)\n",
    "\n",
    "test_gen = tf.keras.preprocessing.image.ImageDataGenerator(rescale = 1/255.0)"
   ]
  },
  {
   "cell_type": "code",
   "execution_count": 46,
   "id": "a7322e60",
   "metadata": {},
   "outputs": [
    {
     "name": "stdout",
     "output_type": "stream",
     "text": [
      "Found 2000 images belonging to 2 classes.\n",
      "Found 1000 images belonging to 2 classes.\n"
     ]
    }
   ],
   "source": [
    "trainImgData = train_gen.flow_from_directory(\"C:\\\\Users\\\\Sandeep\\\\OneDrive\\\\Desktop\\\\Classes and Files\\\\cats_and_dogs\\\\train\", \n",
    "                                             batch_size = 32, \n",
    "                                             class_mode = 'binary',\n",
    "                                             target_size = (128,128))\n",
    "\n",
    "testImgData = test_gen.flow_from_directory(\"C:\\\\Users\\\\Sandeep\\\\OneDrive\\\\Desktop\\\\Classes and Files\\\\cats_and_dogs\\\\validation\",\n",
    "                                         batch_size = 32,\n",
    "                                         class_mode = 'binary',\n",
    "                                         target_size = (128,128))"
   ]
  },
  {
   "cell_type": "code",
   "execution_count": 47,
   "id": "f771f5a1",
   "metadata": {},
   "outputs": [
    {
     "data": {
      "text/plain": [
       "array([0, 0, 0, ..., 1, 1, 1])"
      ]
     },
     "execution_count": 47,
     "metadata": {},
     "output_type": "execute_result"
    }
   ],
   "source": [
    "trainImgData.classes"
   ]
  },
  {
   "cell_type": "code",
   "execution_count": 48,
   "id": "15786c6e",
   "metadata": {},
   "outputs": [
    {
     "data": {
      "text/plain": [
       "{'cats': 0, 'dogs': 1}"
      ]
     },
     "execution_count": 48,
     "metadata": {},
     "output_type": "execute_result"
    }
   ],
   "source": [
    "trainImgData.class_indices"
   ]
  },
  {
   "cell_type": "code",
   "execution_count": 49,
   "id": "1896d2cf",
   "metadata": {},
   "outputs": [
    {
     "data": {
      "text/plain": [
       "(128, 128, 3)"
      ]
     },
     "execution_count": 49,
     "metadata": {},
     "output_type": "execute_result"
    }
   ],
   "source": [
    "trainImgData.image_shape"
   ]
  },
  {
   "cell_type": "code",
   "execution_count": 50,
   "id": "12a47855",
   "metadata": {},
   "outputs": [],
   "source": [
    "# Model Architecture"
   ]
  },
  {
   "cell_type": "code",
   "execution_count": 51,
   "id": "f06448ea",
   "metadata": {},
   "outputs": [],
   "source": [
    "model = tf.keras.models.Sequential()"
   ]
  },
  {
   "cell_type": "code",
   "execution_count": 52,
   "id": "001f4b9a",
   "metadata": {},
   "outputs": [],
   "source": [
    "        # Convolution Layer 1\n",
    "# Filter\n",
    "# Padding\n",
    "\n",
    "model.add(tf.keras.layers.Conv2D(32, (3,3), input_shape = trainImgData.image_shape, activation = 'relu', padding = 'same'))\n",
    "          \n",
    "# Pooling\n",
    "          \n",
    "model.add(tf.keras.layers.MaxPool2D(pool_size = (2,2)))\n",
    "          \n",
    "          # Convolution Layer 2\n",
    "# Filter\n",
    "# Padding\n",
    "\n",
    "model.add(tf.keras.layers.Conv2D(16, (3,3), activation = 'relu', padding = 'same'))\n",
    "          \n",
    "# Pooling\n",
    "          \n",
    "model.add(tf.keras.layers.MaxPool2D(pool_size = (2,2)))\n",
    "          \n",
    "# Flatten\n",
    "          \n",
    "model.add(tf.keras.layers.Flatten())\n",
    "          \n",
    "# ANN\n",
    "          \n",
    "model.add(tf.keras.layers.Dense(units = 1024, activation = 'relu'))\n",
    "model.add(tf.keras.layers.Dropout(0,25))\n",
    "          \n",
    "model.add(tf.keras.layers.Dense(units = 256, activation = 'relu'))\n",
    "          \n",
    "model.add(tf.keras.layers.Dense(units = 1, activation = 'sigmoid'))"
   ]
  },
  {
   "cell_type": "code",
   "execution_count": 53,
   "id": "f7954ed4",
   "metadata": {},
   "outputs": [],
   "source": [
    "# model Compile"
   ]
  },
  {
   "cell_type": "code",
   "execution_count": 54,
   "id": "f69b0ae7",
   "metadata": {},
   "outputs": [],
   "source": [
    "model.compile(optimizer = 'adam',\n",
    "              loss = 'binary_crossentropy',\n",
    "              metrics = ['accuracy'])"
   ]
  },
  {
   "cell_type": "code",
   "execution_count": 55,
   "id": "8811e1cf",
   "metadata": {},
   "outputs": [],
   "source": [
    "# model Fitting"
   ]
  },
  {
   "cell_type": "code",
   "execution_count": 56,
   "id": "b9c4cc9b",
   "metadata": {
    "scrolled": true
   },
   "outputs": [
    {
     "name": "stdout",
     "output_type": "stream",
     "text": [
      "Epoch 1/20\n",
      "63/63 [==============================] - 34s 525ms/step - loss: 0.7367 - accuracy: 0.5440 - val_loss: 0.6716 - val_accuracy: 0.6070\n",
      "Epoch 2/20\n",
      "63/63 [==============================] - 37s 588ms/step - loss: 0.6231 - accuracy: 0.6550 - val_loss: 0.6158 - val_accuracy: 0.6510\n",
      "Epoch 3/20\n",
      "63/63 [==============================] - 33s 524ms/step - loss: 0.5224 - accuracy: 0.7345 - val_loss: 0.6583 - val_accuracy: 0.6370\n",
      "Epoch 4/20\n",
      "63/63 [==============================] - 35s 551ms/step - loss: 0.3915 - accuracy: 0.8155 - val_loss: 0.7385 - val_accuracy: 0.6330\n",
      "Epoch 5/20\n",
      "63/63 [==============================] - 36s 566ms/step - loss: 0.2601 - accuracy: 0.8890 - val_loss: 1.0212 - val_accuracy: 0.6570\n",
      "Epoch 6/20\n",
      "63/63 [==============================] - 35s 553ms/step - loss: 0.1311 - accuracy: 0.9530 - val_loss: 1.2408 - val_accuracy: 0.6480\n",
      "Epoch 7/20\n",
      "63/63 [==============================] - 32s 507ms/step - loss: 0.1033 - accuracy: 0.9615 - val_loss: 1.6340 - val_accuracy: 0.6260\n",
      "Epoch 8/20\n",
      "63/63 [==============================] - 32s 510ms/step - loss: 0.0549 - accuracy: 0.9815 - val_loss: 1.7813 - val_accuracy: 0.6320\n",
      "Epoch 9/20\n",
      "63/63 [==============================] - 32s 514ms/step - loss: 0.0102 - accuracy: 0.9990 - val_loss: 2.5170 - val_accuracy: 0.6460\n",
      "Epoch 10/20\n",
      "63/63 [==============================] - 31s 498ms/step - loss: 0.0671 - accuracy: 0.9800 - val_loss: 1.8003 - val_accuracy: 0.6230\n",
      "Epoch 11/20\n",
      "63/63 [==============================] - 32s 505ms/step - loss: 0.0219 - accuracy: 0.9940 - val_loss: 1.8868 - val_accuracy: 0.6310\n",
      "Epoch 12/20\n",
      "63/63 [==============================] - 32s 503ms/step - loss: 0.0091 - accuracy: 0.9985 - val_loss: 2.3821 - val_accuracy: 0.6500\n",
      "Epoch 13/20\n",
      "63/63 [==============================] - 35s 550ms/step - loss: 0.0012 - accuracy: 1.0000 - val_loss: 2.5937 - val_accuracy: 0.6460\n",
      "Epoch 14/20\n",
      "63/63 [==============================] - 33s 527ms/step - loss: 3.5248e-04 - accuracy: 1.0000 - val_loss: 2.6816 - val_accuracy: 0.6490\n",
      "Epoch 15/20\n",
      "63/63 [==============================] - 29s 458ms/step - loss: 2.2529e-04 - accuracy: 1.0000 - val_loss: 2.7648 - val_accuracy: 0.6500\n",
      "Epoch 16/20\n",
      "63/63 [==============================] - 29s 463ms/step - loss: 1.6483e-04 - accuracy: 1.0000 - val_loss: 2.8357 - val_accuracy: 0.6500\n",
      "Epoch 17/20\n",
      "63/63 [==============================] - 29s 463ms/step - loss: 1.2735e-04 - accuracy: 1.0000 - val_loss: 2.9039 - val_accuracy: 0.6520\n",
      "Epoch 18/20\n",
      "63/63 [==============================] - 29s 462ms/step - loss: 1.0252e-04 - accuracy: 1.0000 - val_loss: 2.9608 - val_accuracy: 0.6520\n",
      "Epoch 19/20\n",
      "63/63 [==============================] - 37s 588ms/step - loss: 8.4109e-05 - accuracy: 1.0000 - val_loss: 3.0147 - val_accuracy: 0.6530\n",
      "Epoch 20/20\n",
      "63/63 [==============================] - 34s 539ms/step - loss: 6.9519e-05 - accuracy: 1.0000 - val_loss: 3.0592 - val_accuracy: 0.6540\n"
     ]
    }
   ],
   "source": [
    "mdl_history = model.fit(trainImgData, validation_data = testImgData, epochs = 20)"
   ]
  },
  {
   "cell_type": "code",
   "execution_count": 58,
   "id": "e3c6d9e4",
   "metadata": {},
   "outputs": [
    {
     "data": {
      "text/plain": [
       "dict_keys(['loss', 'accuracy', 'val_loss', 'val_accuracy'])"
      ]
     },
     "execution_count": 58,
     "metadata": {},
     "output_type": "execute_result"
    }
   ],
   "source": [
    "mdl_history.history.keys()"
   ]
  },
  {
   "cell_type": "code",
   "execution_count": 57,
   "id": "5b14ec9e",
   "metadata": {},
   "outputs": [],
   "source": [
    "import matplotlib.pyplot as plt"
   ]
  },
  {
   "cell_type": "code",
   "execution_count": 61,
   "id": "3e65e138",
   "metadata": {},
   "outputs": [
    {
     "data": {
      "text/plain": [
       "[<matplotlib.lines.Line2D at 0x1a580bed210>]"
      ]
     },
     "execution_count": 61,
     "metadata": {},
     "output_type": "execute_result"
    },
    {
     "data": {
      "image/png": "[encoded data removed]",
      "text/plain": [
       "<Figure size 640x480 with 1 Axes>"
      ]
     },
     "metadata": {},
     "output_type": "display_data"
    }
   ],
   "source": [
    "plt.plot(mdl_history.history['accuracy'])\n",
    "plt.plot(mdl_history.history['val_accuracy'])"
   ]
  },
  {
   "cell_type": "code",
   "execution_count": 62,
   "id": "4aa12fbb",
   "metadata": {},
   "outputs": [
    {
     "data": {
      "text/plain": [
       "[<matplotlib.lines.Line2D at 0x1a580c81010>]"
      ]
     },
     "execution_count": 62,
     "metadata": {},
     "output_type": "execute_result"
    },
    {
     "data": {
      "image/png": "[encoded data removed]",
      "text/plain": [
       "<Figure size 640x480 with 1 Axes>"
      ]
     },
     "metadata": {},
     "output_type": "display_data"
    }
   ],
   "source": [
    "plt.plot(mdl_history.history['loss'])\n",
    "plt.plot(mdl_history.history['val_loss'])"
   ]
  },
  {
   "cell_type": "code",
   "execution_count": null,
   "id": "8735caac",
   "metadata": {},
   "outputs": [],
   "source": []
  }
 ],
 "metadata": {
  "kernelspec": {
   "display_name": "Python 3 (ipykernel)",
   "language": "python",
   "name": "python3"
  },
  "language_info": {
   "codemirror_mode": {
    "name": "ipython",
    "version": 3
   },
   "file_extension": ".py",
   "mimetype": "text/x-python",
   "name": "python",
   "nbconvert_exporter": "python",
   "pygments_lexer": "ipython3",
   "version": "3.11.3"
  }
 },
 "nbformat": 4,
 "nbformat_minor": 5
}
