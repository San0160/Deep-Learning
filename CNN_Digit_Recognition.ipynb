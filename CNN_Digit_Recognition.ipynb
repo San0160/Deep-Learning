{
 "cells": [
  {
   "cell_type": "code",
   "execution_count": 119,
   "id": "6c8f6399",
   "metadata": {},
   "outputs": [],
   "source": [
    "from keras.layers import Dense , Flatten, Conv2D, MaxPool2D\n",
    "from keras.models import Sequential\n",
    "from keras.datasets import mnist\n",
    "\n",
    "from keras.utils import to_categorical\n",
    "\n",
    "import matplotlib.pyplot as plt"
   ]
  },
  {
   "cell_type": "code",
   "execution_count": 120,
   "id": "f8d64c81",
   "metadata": {},
   "outputs": [],
   "source": [
    "(X_train, y_train), (X_test, y_test) = mnist.load_data()"
   ]
  },
  {
   "cell_type": "code",
   "execution_count": 121,
   "id": "60c29a2a",
   "metadata": {},
   "outputs": [
    {
     "name": "stdout",
     "output_type": "stream",
     "text": [
      "X_train (60000, 28, 28)\n",
      "y_train (60000,)\n",
      "X_test (10000, 28, 28)\n",
      "y_test (10000,)\n"
     ]
    }
   ],
   "source": [
    "print(\"X_train\",X_train.shape)\n",
    "print(\"y_train\",y_train.shape)\n",
    "print(\"X_test\",X_test.shape)\n",
    "print(\"y_test\",y_test.shape)"
   ]
  },
  {
   "cell_type": "code",
   "execution_count": 122,
   "id": "20e69ac3",
   "metadata": {},
   "outputs": [
    {
     "data": {
      "text/plain": [
       "(28, 28)"
      ]
     },
     "execution_count": 122,
     "metadata": {},
     "output_type": "execute_result"
    }
   ],
   "source": [
    "X_train[0].shape"
   ]
  },
  {
   "cell_type": "code",
   "execution_count": 123,
   "id": "2e2c8abf",
   "metadata": {},
   "outputs": [
    {
     "data": {
      "text/plain": [
       "<matplotlib.image.AxesImage at 0x23a9fe1a2d0>"
      ]
     },
     "execution_count": 123,
     "metadata": {},
     "output_type": "execute_result"
    },
    {
     "data": {
      "image/png": "[encoded data removed]",
      "text/plain": [
       "<Figure size 640x480 with 1 Axes>"
      ]
     },
     "metadata": {},
     "output_type": "display_data"
    }
   ],
   "source": [
    "plt.imshow(X_train[2334])"
   ]
  },
  {
   "cell_type": "code",
   "execution_count": 124,
   "id": "57577c1c",
   "metadata": {},
   "outputs": [
    {
     "data": {
      "text/plain": [
       "4"
      ]
     },
     "execution_count": 124,
     "metadata": {},
     "output_type": "execute_result"
    }
   ],
   "source": [
    "y_train[2334]"
   ]
  },
  {
   "cell_type": "code",
   "execution_count": 125,
   "id": "ff326b33",
   "metadata": {},
   "outputs": [
    {
     "data": {
      "text/plain": [
       "<matplotlib.image.AxesImage at 0x23a9fe5bd10>"
      ]
     },
     "execution_count": 125,
     "metadata": {},
     "output_type": "execute_result"
    },
    {
     "data": {
      "image/png": "[encoded data removed]",
      "text/plain": [
       "<Figure size 640x480 with 1 Axes>"
      ]
     },
     "metadata": {},
     "output_type": "display_data"
    }
   ],
   "source": [
    "plt.imshow(X_train[2334], cmap = 'gray')"
   ]
  },
  {
   "cell_type": "code",
   "execution_count": 126,
   "id": "36f43fba",
   "metadata": {},
   "outputs": [],
   "source": [
    "# Reshaping the data \n",
    "# CNN expect input image is to be in 3D format\n",
    "# Height, width and channel"
   ]
  },
  {
   "cell_type": "code",
   "execution_count": 127,
   "id": "c95d5ed7",
   "metadata": {},
   "outputs": [],
   "source": [
    "X_train = X_train.reshape(60000, 28, 28, 1)\n",
    "X_test = X_test.reshape(10000, 28,28, 1)"
   ]
  },
  {
   "cell_type": "code",
   "execution_count": 128,
   "id": "f2ca640d",
   "metadata": {},
   "outputs": [],
   "source": [
    "# to make sure when scaling there is no integer in the data"
   ]
  },
  {
   "cell_type": "code",
   "execution_count": 129,
   "id": "4404fd08",
   "metadata": {},
   "outputs": [],
   "source": [
    "X_train = X_train.astype('float32')\n",
    "X_test = X_test.astype('float32')"
   ]
  },
  {
   "cell_type": "code",
   "execution_count": 130,
   "id": "ca1caab6",
   "metadata": {},
   "outputs": [],
   "source": [
    "# scaling the image"
   ]
  },
  {
   "cell_type": "code",
   "execution_count": 131,
   "id": "91f0c4af",
   "metadata": {},
   "outputs": [],
   "source": [
    "X_train /= 255.0\n",
    "X_test /= 255.0"
   ]
  },
  {
   "cell_type": "code",
   "execution_count": 132,
   "id": "d5e673df",
   "metadata": {},
   "outputs": [],
   "source": [
    "# processing Y"
   ]
  },
  {
   "cell_type": "code",
   "execution_count": 133,
   "id": "4aee729f",
   "metadata": {},
   "outputs": [
    {
     "data": {
      "text/plain": [
       "array([5, 0, 4, ..., 5, 6, 8], dtype=uint8)"
      ]
     },
     "execution_count": 133,
     "metadata": {},
     "output_type": "execute_result"
    }
   ],
   "source": [
    "y_train"
   ]
  },
  {
   "cell_type": "code",
   "execution_count": 134,
   "id": "4a62ccfb",
   "metadata": {},
   "outputs": [
    {
     "data": {
      "text/plain": [
       "array([7, 2, 1, ..., 4, 5, 6], dtype=uint8)"
      ]
     },
     "execution_count": 134,
     "metadata": {},
     "output_type": "execute_result"
    }
   ],
   "source": [
    "y_test"
   ]
  },
  {
   "cell_type": "code",
   "execution_count": 135,
   "id": "ee4c287b",
   "metadata": {},
   "outputs": [],
   "source": [
    "y_train = to_categorical(y_train)"
   ]
  },
  {
   "cell_type": "code",
   "execution_count": 136,
   "id": "ca64d31a",
   "metadata": {},
   "outputs": [
    {
     "data": {
      "text/plain": [
       "array([[0., 0., 0., ..., 0., 0., 0.],\n",
       "       [1., 0., 0., ..., 0., 0., 0.],\n",
       "       [0., 0., 0., ..., 0., 0., 0.],\n",
       "       ...,\n",
       "       [0., 0., 0., ..., 0., 0., 0.],\n",
       "       [0., 0., 0., ..., 0., 0., 0.],\n",
       "       [0., 0., 0., ..., 0., 1., 0.]], dtype=float32)"
      ]
     },
     "execution_count": 136,
     "metadata": {},
     "output_type": "execute_result"
    }
   ],
   "source": [
    "y_train"
   ]
  },
  {
   "cell_type": "code",
   "execution_count": 137,
   "id": "70421172",
   "metadata": {},
   "outputs": [],
   "source": [
    "y_test = to_categorical(y_test)"
   ]
  },
  {
   "cell_type": "code",
   "execution_count": 138,
   "id": "0ec70d13",
   "metadata": {},
   "outputs": [
    {
     "data": {
      "text/plain": [
       "array([[0., 0., 0., ..., 1., 0., 0.],\n",
       "       [0., 0., 1., ..., 0., 0., 0.],\n",
       "       [0., 1., 0., ..., 0., 0., 0.],\n",
       "       ...,\n",
       "       [0., 0., 0., ..., 0., 0., 0.],\n",
       "       [0., 0., 0., ..., 0., 0., 0.],\n",
       "       [0., 0., 0., ..., 0., 0., 0.]], dtype=float32)"
      ]
     },
     "execution_count": 138,
     "metadata": {},
     "output_type": "execute_result"
    }
   ],
   "source": [
    "y_test"
   ]
  },
  {
   "cell_type": "code",
   "execution_count": 139,
   "id": "11c1f4f3",
   "metadata": {},
   "outputs": [
    {
     "name": "stdout",
     "output_type": "stream",
     "text": [
      "X_train (60000, 28, 28, 1)\n",
      "y_train (60000, 10)\n",
      "X_test (10000, 28, 28, 1)\n",
      "y_test (10000, 10)\n"
     ]
    }
   ],
   "source": [
    "print(\"X_train\",X_train.shape)\n",
    "print(\"y_train\",y_train.shape)\n",
    "print(\"X_test\",X_test.shape)\n",
    "print(\"y_test\",y_test.shape)"
   ]
  },
  {
   "cell_type": "code",
   "execution_count": 140,
   "id": "34093eb7",
   "metadata": {},
   "outputs": [],
   "source": [
    "# model building"
   ]
  },
  {
   "cell_type": "code",
   "execution_count": 145,
   "id": "fd6aba61",
   "metadata": {},
   "outputs": [],
   "source": [
    "cnn = Sequential()\n",
    "\n",
    "# input shape\n",
    "# Convolution layer1\n",
    "\n",
    "cnn.add(Conv2D(32, (5,5), input_shape = (28,28,1), padding = 'same', activation = 'relu'))\n",
    "\n",
    "cnn.add(MaxPool2D(2,2))      \n",
    "\n",
    "# Convolution layer2\n",
    "\n",
    "cnn.add(Conv2D(16, (5,5), padding = 'same', activation = 'relu'))\n",
    "\n",
    "cnn.add(MaxPool2D(2,2))   \n",
    "\n",
    "# Flatten\n",
    "\n",
    "cnn.add(Flatten())\n",
    "\n",
    "# ANN\n",
    "cnn.add(Dense(1024, activation = 'relu'))\n",
    "\n",
    "# Output\n",
    "cnn.add(Dense(10, activation = 'softmax'))"
   ]
  },
  {
   "cell_type": "code",
   "execution_count": 146,
   "id": "35aea0e2",
   "metadata": {},
   "outputs": [],
   "source": [
    "# Compile the model"
   ]
  },
  {
   "cell_type": "code",
   "execution_count": 153,
   "id": "2619f361",
   "metadata": {},
   "outputs": [],
   "source": [
    "cnn.compile(optimizer = 'adam', loss = 'categorical_crossentropy', metrics = ['accuracy'])"
   ]
  },
  {
   "cell_type": "code",
   "execution_count": 154,
   "id": "69f68ad8",
   "metadata": {},
   "outputs": [],
   "source": [
    " # model fitting"
   ]
  },
  {
   "cell_type": "code",
   "execution_count": 155,
   "id": "2f4ddd53",
   "metadata": {},
   "outputs": [
    {
     "name": "stdout",
     "output_type": "stream",
     "text": [
      "Epoch 1/15\n",
      "1875/1875 [==============================] - 57s 30ms/step - loss: 0.1112 - accuracy: 0.9661 - val_loss: 0.0433 - val_accuracy: 0.9862\n",
      "Epoch 2/15\n",
      "1875/1875 [==============================] - 59s 31ms/step - loss: 0.0401 - accuracy: 0.9876 - val_loss: 0.0329 - val_accuracy: 0.9889\n",
      "Epoch 3/15\n",
      "1875/1875 [==============================] - 55s 30ms/step - loss: 0.0284 - accuracy: 0.9909 - val_loss: 0.0333 - val_accuracy: 0.9904\n",
      "Epoch 4/15\n",
      "1875/1875 [==============================] - 53s 29ms/step - loss: 0.0206 - accuracy: 0.9933 - val_loss: 0.0269 - val_accuracy: 0.9903\n",
      "Epoch 5/15\n",
      "1875/1875 [==============================] - 61s 32ms/step - loss: 0.0175 - accuracy: 0.9944 - val_loss: 0.0250 - val_accuracy: 0.9919\n",
      "Epoch 6/15\n",
      "1875/1875 [==============================] - 62s 33ms/step - loss: 0.0122 - accuracy: 0.9959 - val_loss: 0.0307 - val_accuracy: 0.9917\n",
      "Epoch 7/15\n",
      "1875/1875 [==============================] - 63s 34ms/step - loss: 0.0113 - accuracy: 0.9961 - val_loss: 0.0318 - val_accuracy: 0.9918\n",
      "Epoch 8/15\n",
      "1875/1875 [==============================] - 62s 33ms/step - loss: 0.0099 - accuracy: 0.9967 - val_loss: 0.0416 - val_accuracy: 0.9892\n",
      "Epoch 9/15\n",
      "1875/1875 [==============================] - 60s 32ms/step - loss: 0.0087 - accuracy: 0.9974 - val_loss: 0.0378 - val_accuracy: 0.9918\n",
      "Epoch 10/15\n",
      "1875/1875 [==============================] - 61s 33ms/step - loss: 0.0081 - accuracy: 0.9975 - val_loss: 0.0395 - val_accuracy: 0.9912\n",
      "Epoch 11/15\n",
      "1875/1875 [==============================] - 58s 31ms/step - loss: 0.0059 - accuracy: 0.9982 - val_loss: 0.0390 - val_accuracy: 0.9919\n",
      "Epoch 12/15\n",
      "1875/1875 [==============================] - 57s 30ms/step - loss: 0.0068 - accuracy: 0.9980 - val_loss: 0.0333 - val_accuracy: 0.9927\n",
      "Epoch 13/15\n",
      "1875/1875 [==============================] - 57s 30ms/step - loss: 0.0073 - accuracy: 0.9979 - val_loss: 0.0356 - val_accuracy: 0.9915\n",
      "Epoch 14/15\n",
      "1875/1875 [==============================] - 54s 29ms/step - loss: 0.0066 - accuracy: 0.9979 - val_loss: 0.0684 - val_accuracy: 0.9896\n",
      "Epoch 15/15\n",
      "1875/1875 [==============================] - 53s 28ms/step - loss: 0.0061 - accuracy: 0.9984 - val_loss: 0.0501 - val_accuracy: 0.9913\n"
     ]
    }
   ],
   "source": [
    "mdl_history = cnn.fit(X_train, y_train, epochs = 15, validation_data = (X_test, y_test))"
   ]
  },
  {
   "cell_type": "code",
   "execution_count": 156,
   "id": "4a5c5e0d",
   "metadata": {},
   "outputs": [
    {
     "data": {
      "text/plain": [
       "dict_keys(['loss', 'accuracy', 'val_loss', 'val_accuracy'])"
      ]
     },
     "execution_count": 156,
     "metadata": {},
     "output_type": "execute_result"
    }
   ],
   "source": [
    "mdl_history.history.keys()"
   ]
  },
  {
   "cell_type": "code",
   "execution_count": 160,
   "id": "e87ad246",
   "metadata": {},
   "outputs": [
    {
     "data": {
      "text/plain": [
       "[<matplotlib.lines.Line2D at 0x23aaf0f1b50>]"
      ]
     },
     "execution_count": 160,
     "metadata": {},
     "output_type": "execute_result"
    },
    {
     "data": {
      "image/png": "[encoded data removed]",
      "text/plain": [
       "<Figure size 640x480 with 1 Axes>"
      ]
     },
     "metadata": {},
     "output_type": "display_data"
    }
   ],
   "source": [
    "plt.plot(mdl_history.history['accuracy'])\n",
    "plt.plot(mdl_history.history['val_accuracy'])"
   ]
  },
  {
   "cell_type": "code",
   "execution_count": 161,
   "id": "4933fa0d",
   "metadata": {},
   "outputs": [
    {
     "data": {
      "text/plain": [
       "[<matplotlib.lines.Line2D at 0x23aaf150490>]"
      ]
     },
     "execution_count": 161,
     "metadata": {},
     "output_type": "execute_result"
    },
    {
     "data": {
      "image/png": "[encoded data removed]",
      "text/plain": [
       "<Figure size 640x480 with 1 Axes>"
      ]
     },
     "metadata": {},
     "output_type": "display_data"
    }
   ],
   "source": [
    "plt.plot(mdl_history.history['loss'])\n",
    "plt.plot(mdl_history.history['val_loss'])"
   ]
  },
  {
   "cell_type": "code",
   "execution_count": null,
   "id": "e44b04a9",
   "metadata": {},
   "outputs": [],
   "source": []
  }
 ],
 "metadata": {
  "kernelspec": {
   "display_name": "Python 3 (ipykernel)",
   "language": "python",
   "name": "python3"
  },
  "language_info": {
   "codemirror_mode": {
    "name": "ipython",
    "version": 3
   },
   "file_extension": ".py",
   "mimetype": "text/x-python",
   "name": "python",
   "nbconvert_exporter": "python",
   "pygments_lexer": "ipython3",
   "version": "3.11.3"
  }
 },
 "nbformat": 4,
 "nbformat_minor": 5
}
